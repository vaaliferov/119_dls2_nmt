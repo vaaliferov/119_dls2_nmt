{
 "cells": [
  {
   "cell_type": "markdown",
   "metadata": {},
   "source": [
    "### **Colab / Kaggle**"
   ]
  },
  {
   "cell_type": "code",
   "execution_count": 1,
   "metadata": {
    "execution": {
     "iopub.execute_input": "2022-02-07T20:15:53.885831Z",
     "iopub.status.busy": "2022-02-07T20:15:53.885472Z",
     "iopub.status.idle": "2022-02-07T20:15:54.608155Z",
     "shell.execute_reply": "2022-02-07T20:15:54.607237Z",
     "shell.execute_reply.started": "2022-02-07T20:15:53.885742Z"
    },
    "id": "jqvGt-2fD8PU",
    "outputId": "cbaa1125-2809-4de5-8bad-fb7211de5815"
   },
   "outputs": [],
   "source": [
    "!nvidia-smi -L"
   ]
  },
  {
   "cell_type": "code",
   "execution_count": null,
   "metadata": {
    "id": "8_h7U7xmD94J"
   },
   "outputs": [],
   "source": [
    "!rm -rf sample_data\n",
    "!pip3 install gdown\n",
    "!gdown --id 165asMditacdnADEyplXruCw9cvEseXbt\n",
    "!unzip nmt.zip && rm nmt.zip\n",
    "!pip3 install -r req_dev.txt\n",
    "!bash tg.sh fetch"
   ]
  },
  {
   "cell_type": "code",
   "execution_count": 4,
   "metadata": {
    "execution": {
     "iopub.execute_input": "2022-02-07T20:17:49.049334Z",
     "iopub.status.busy": "2022-02-07T20:17:49.048391Z",
     "iopub.status.idle": "2022-02-07T20:17:49.054725Z",
     "shell.execute_reply": "2022-02-07T20:17:49.053926Z",
     "shell.execute_reply.started": "2022-02-07T20:17:49.049288Z"
    }
   },
   "outputs": [],
   "source": [
    "c = '''   '''\n",
    "with open('secret.py', 'w') as f: f.write(c)"
   ]
  },
  {
   "cell_type": "code",
   "execution_count": 5,
   "metadata": {
    "execution": {
     "iopub.execute_input": "2022-02-07T20:17:58.488671Z",
     "iopub.status.busy": "2022-02-07T20:17:58.488286Z",
     "iopub.status.idle": "2022-02-07T20:17:58.495437Z",
     "shell.execute_reply": "2022-02-07T20:17:58.494668Z",
     "shell.execute_reply.started": "2022-02-07T20:17:58.488628Z"
    }
   },
   "outputs": [],
   "source": [
    "c = '''   '''\n",
    "with open('config.py', 'w') as f: f.write(c)"
   ]
  },
  {
   "cell_type": "code",
   "execution_count": null,
   "metadata": {},
   "outputs": [],
   "source": [
    "!sed -i \"s/^\\(CUR_EPOCH\\s*=\\s*\\).*\\$/\\12/\" config.py"
   ]
  },
  {
   "cell_type": "code",
   "execution_count": null,
   "metadata": {},
   "outputs": [],
   "source": [
    "!head -45 config.py | tail -7 # or just !cat config.py"
   ]
  },
  {
   "cell_type": "code",
   "execution_count": null,
   "metadata": {
    "id": "R9SICyx7D_fy"
   },
   "outputs": [],
   "source": [
    "!bash tg.sh run"
   ]
  },
  {
   "cell_type": "code",
   "execution_count": null,
   "metadata": {
    "execution": {
     "iopub.execute_input": "2022-02-07T20:18:11.733949Z",
     "iopub.status.busy": "2022-02-07T20:18:11.733247Z"
    },
    "id": "xjSg_qinEESL"
   },
   "outputs": [],
   "source": [
    "!python3 train.py"
   ]
  }
 ],
 "metadata": {
  "kernelspec": {
   "display_name": "Python 3 (ipykernel)",
   "language": "python",
   "name": "python3"
  },
  "language_info": {
   "codemirror_mode": {
    "name": "ipython",
    "version": 3
   },
   "file_extension": ".py",
   "mimetype": "text/x-python",
   "name": "python",
   "nbconvert_exporter": "python",
   "pygments_lexer": "ipython3",
   "version": "3.9.7"
  }
 },
 "nbformat": 4,
 "nbformat_minor": 4
}
