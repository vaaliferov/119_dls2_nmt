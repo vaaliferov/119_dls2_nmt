{
 "cells": [
  {
   "cell_type": "markdown",
   "metadata": {},
   "source": [
    "### **Tools**"
   ]
  },
  {
   "cell_type": "code",
   "execution_count": 1,
   "metadata": {},
   "outputs": [],
   "source": [
    "import os\n",
    "import numpy as np"
   ]
  },
  {
   "cell_type": "code",
   "execution_count": 2,
   "metadata": {},
   "outputs": [],
   "source": [
    "from plot import *\n",
    "from config import *\n",
    "from schedule import *\n",
    "from ploth import *"
   ]
  },
  {
   "cell_type": "code",
   "execution_count": null,
   "metadata": {},
   "outputs": [],
   "source": [
    "for filename in os.listdir('.'):\n",
    "    os.rename(filename, '0' + filename)"
   ]
  },
  {
   "cell_type": "code",
   "execution_count": null,
   "metadata": {},
   "outputs": [],
   "source": [
    "%%bash\n",
    "GIF=~/Documents/out.gif\n",
    "FRAMES=~/Documents/*.png\n",
    "LAST_FRAME=$(ls $FRAMES -1 | tail -n 1)\n",
    "convert -delay 10 $FRAMES -delay 100 $LAST_FRAME $GIF"
   ]
  },
  {
   "cell_type": "code",
   "execution_count": 7,
   "metadata": {},
   "outputs": [],
   "source": [
    "# sudo apt install imagemagick\n",
    "!convert -delay 10 data/gates/*.png data/gates.gif\n",
    "# !convert -delay 10 data/gates/*.png -delay 500 data/gates/230.png data/gates.gif"
   ]
  },
  {
   "cell_type": "code",
   "execution_count": null,
   "metadata": {},
   "outputs": [],
   "source": [
    "cur_epoch, num_batches = 1, 71313\n",
    "lr_schedule = noam_learning_rate(NOAM_FACTOR, HID_DIM, WARMUP_STEPS, num_batches * NUM_EPOCHS)\n",
    "start, stop = (cur_epoch - 1) * num_batches, CUR_EPOCH * num_batches\n",
    "plot_learning_rate(lr_schedule, start, stop, LEARNING_RATE_PLOT_PATH)"
   ]
  },
  {
   "cell_type": "code",
   "execution_count": null,
   "metadata": {},
   "outputs": [],
   "source": [
    "loss = np.load('data/loss.npy') # [:500]\n",
    "bleu = np.load('data/bleu.npy') # [:500]\n",
    "plot_loss_and_bleu(loss, bleu, LOSS_BLEU_PLOT_PATH)\n",
    "html_plot_loss_and_bleu(loss, bleu, LOSS_BLEU_HTML_PLOT_PATH)"
   ]
  },
  {
   "cell_type": "code",
   "execution_count": 3,
   "metadata": {},
   "outputs": [],
   "source": [
    "loss_files = [f'data/prun/train_loss_{i}.npy' for i in range(1,4)]\n",
    "bleu_files = [f'data/prun/train_bleu_{i}.npy' for i in range(1,4)]\n",
    "loss = np.concatenate([np.load(filename) for filename in loss_files])\n",
    "bleu = np.concatenate([np.load(filename) for filename in bleu_files])\n",
    "html_plot_loss_and_bleu(loss, bleu, 'data/train_loss_bleu_prun_1_3.html')\n",
    "plot_loss_and_bleu(loss, bleu, 'data/train_loss_bleu_prun_1_3.png')"
   ]
  },
  {
   "cell_type": "code",
   "execution_count": 5,
   "metadata": {},
   "outputs": [],
   "source": [
    "loss_files = [f'data/train/train_loss_{i:02}.npy' for i in range(3,11)]\n",
    "bleu_files = [f'data/train/train_bleu_{i:02}.npy' for i in range(3,11)]\n",
    "loss = np.concatenate([np.load(filename) for filename in loss_files])\n",
    "bleu = np.concatenate([np.load(filename) for filename in bleu_files])\n",
    "html_plot_loss_and_bleu(loss, bleu, 'data/train_loss_bleu_3_10.html')\n",
    "plot_loss_and_bleu(loss, bleu, 'data/train_loss_bleu_3_10.png')"
   ]
  },
  {
   "cell_type": "code",
   "execution_count": null,
   "metadata": {},
   "outputs": [],
   "source": [
    "train_loss = (3.9480, 2.6829, 2.4211, 2.3371, 2.2642, 2.2027, 2.1484, 2.1021, 2.0681, 2.0490)\n",
    "train_bleu = (0.2006, 0.3598, 0.3961, 0.4070, 0.4170, 0.4254, 0.4330, 0.4396, 0.4444, 0.4472)\n",
    "valid_loss = (3.2503, 2.4641, 2.3468, 2.2730, 2.2121, 2.1636, 2.1249, 2.0942, 2.0795, 2.0781)\n",
    "valid_bleu = (0.2774, 0.4020, 0.4186, 0.4296, 0.4368, 0.4439, 0.4498, 0.4551, 0.4574, 0.4579)\n",
    "plot_loss_and_bleu(train_loss, train_bleu, 'data/train_loss_bleu.png')\n",
    "plot_loss_and_bleu(valid_loss, valid_bleu, 'data/valid_loss_bleu.png')"
   ]
  }
 ],
 "metadata": {
  "kernelspec": {
   "display_name": "Python 3 (ipykernel)",
   "language": "python",
   "name": "python3"
  },
  "language_info": {
   "codemirror_mode": {
    "name": "ipython",
    "version": 3
   },
   "file_extension": ".py",
   "mimetype": "text/x-python",
   "name": "python",
   "nbconvert_exporter": "python",
   "pygments_lexer": "ipython3",
   "version": "3.9.7"
  }
 },
 "nbformat": 4,
 "nbformat_minor": 4
}
